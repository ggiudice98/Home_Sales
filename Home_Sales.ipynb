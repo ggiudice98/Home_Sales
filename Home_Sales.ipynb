{
  "nbformat": 4,
  "nbformat_minor": 0,
  "metadata": {
    "colab": {
      "provenance": []
    },
    "kernelspec": {
      "name": "python3",
      "display_name": "Python 3"
    },
    "language_info": {
      "name": "python"
    }
  },
  "cells": [
    {
      "cell_type": "code",
      "source": [
        "import os\n",
        "# Find the latest version of spark 3.x  from http://www.apache.org/dist/spark/ and enter as the spark version\n",
        "# For example:\n",
        "# spark_version = 'spark-3.5.0'\n",
        "spark_version = 'spark-3.5.0'\n",
        "os.environ['SPARK_VERSION']=spark_version\n",
        "# Install Spark and Java\n",
        "!apt-get update\n",
        "!apt-get install openjdk-11-jdk-headless -qq > /dev/null\n",
        "!wget -q https://dlcdn.apache.org/spark/spark-3.5.0/spark-3.5.0-bin-hadoop3.tgz\n",
        "!tar xf $SPARK_VERSION-bin-hadoop3.tgz\n",
        "!pip install -q findspark\n",
        "# Set Environment Variables\n",
        "os.environ[\"JAVA_HOME\"] = \"/usr/lib/jvm/java-11-openjdk-amd64\"\n",
        "os.environ[\"SPARK_HOME\"] = f\"/content/{spark_version}-bin-hadoop3\"\n",
        "# Start a SparkSession\n",
        "import findspark\n",
        "findspark.init()"
      ],
      "metadata": {
        "colab": {
          "base_uri": "https://localhost:8080/"
        },
        "id": "NJ4mWYpisuZB",
        "outputId": "25e16da2-71a7-4d11-ad11-f30b7865849c"
      },
      "execution_count": null,
      "outputs": [
        {
          "output_type": "stream",
          "name": "stdout",
          "text": [
            "\r0% [Working]\r            \rGet:1 https://cloud.r-project.org/bin/linux/ubuntu jammy-cran40/ InRelease [3,626 B]\n",
            "\r0% [Waiting for headers] [Waiting for headers] [1 InRelease 0 B/3,626 B 0%] [Waiting for headers] [W\r                                                                                                    \r0% [Waiting for headers] [Waiting for headers] [Waiting for headers] [Waiting for headers]\r                                                                                          \rHit:2 https://developer.download.nvidia.com/compute/cuda/repos/ubuntu2204/x86_64  InRelease\n",
            "\r                                                                                          \r0% [Waiting for headers] [Waiting for headers] [Waiting for headers]\r                                                                    \rHit:3 https://ppa.launchpadcontent.net/c2d4u.team/c2d4u4.0+/ubuntu jammy InRelease\n",
            "\r0% [Waiting for headers] [Waiting for headers] [Waiting for headers]\r                                                                    \rHit:4 http://archive.ubuntu.com/ubuntu jammy InRelease\n",
            "\r                                                                    \r0% [Waiting for headers] [Waiting for headers]\r                                              \rGet:5 http://security.ubuntu.com/ubuntu jammy-security InRelease [110 kB]\n",
            "\r0% [5 InRelease 8,192 B/110 kB 7%] [Waiting for headers]\r                                                        \rHit:6 https://ppa.launchpadcontent.net/deadsnakes/ppa/ubuntu jammy InRelease\n",
            "Hit:7 https://ppa.launchpadcontent.net/graphics-drivers/ppa/ubuntu jammy InRelease\n",
            "Hit:8 https://ppa.launchpadcontent.net/ubuntugis/ppa/ubuntu jammy InRelease\n",
            "Get:9 http://archive.ubuntu.com/ubuntu jammy-updates InRelease [119 kB]\n",
            "Hit:10 http://archive.ubuntu.com/ubuntu jammy-backports InRelease\n",
            "Get:11 http://security.ubuntu.com/ubuntu jammy-security/universe amd64 Packages [1,047 kB]\n",
            "Get:12 http://archive.ubuntu.com/ubuntu jammy-updates/restricted amd64 Packages [1,614 kB]\n",
            "Get:13 http://security.ubuntu.com/ubuntu jammy-security/main amd64 Packages [1,335 kB]\n",
            "Get:14 http://security.ubuntu.com/ubuntu jammy-security/restricted amd64 Packages [1,586 kB]\n",
            "Get:15 http://security.ubuntu.com/ubuntu jammy-security/multiverse amd64 Packages [44.6 kB]\n",
            "Get:16 http://archive.ubuntu.com/ubuntu jammy-updates/multiverse amd64 Packages [50.4 kB]\n",
            "Get:17 http://archive.ubuntu.com/ubuntu jammy-updates/universe amd64 Packages [1,307 kB]\n",
            "Get:18 http://archive.ubuntu.com/ubuntu jammy-updates/main amd64 Packages [1,605 kB]\n",
            "Fetched 8,823 kB in 4s (2,195 kB/s)\n",
            "Reading package lists... Done\n"
          ]
        }
      ]
    },
    {
      "cell_type": "code",
      "source": [
        "# Import packages\n",
        "from pyspark.sql import SparkSession\n",
        "import time\n",
        "\n",
        "# Create a SparkSession\n",
        "spark = SparkSession.builder.appName(\"SparkSQL\").getOrCreate()"
      ],
      "metadata": {
        "id": "p8u_cXXds2P3"
      },
      "execution_count": null,
      "outputs": []
    },
    {
      "cell_type": "code",
      "source": [
        "# 1. Read in the AWS S3 bucket into a DataFrame.\n",
        "from pyspark import SparkFiles\n",
        "url = \"https://2u-data-curriculum-team.s3.amazonaws.com/dataviz-classroom/v1.2/22-big-data/home_sales_revised.csv\"\n",
        "spark.sparkContext.addFile(url)\n",
        "\n",
        "home_data_df = spark.read.csv(SparkFiles.get(\"home_sales_revised.csv\"), sep=\",\", header=True)\n",
        "home_data_df.show(5)"
      ],
      "metadata": {
        "id": "PXJj-BxBAdb-",
        "colab": {
          "base_uri": "https://localhost:8080/"
        },
        "outputId": "4590df18-2675-4984-d934-20b0196dab6c"
      },
      "execution_count": 21,
      "outputs": [
        {
          "output_type": "stream",
          "name": "stdout",
          "text": [
            "+--------------------+----------+----------+------+--------+---------+-----------+--------+------+----------+----+\n",
            "|                  id|      date|date_built| price|bedrooms|bathrooms|sqft_living|sqft_lot|floors|waterfront|view|\n",
            "+--------------------+----------+----------+------+--------+---------+-----------+--------+------+----------+----+\n",
            "|f8a53099-ba1c-47d...|2022-04-08|      2016|936923|       4|        3|       3167|   11733|     2|         1|  76|\n",
            "|7530a2d8-1ae3-451...|2021-06-13|      2013|379628|       2|        2|       2235|   14384|     1|         0|  23|\n",
            "|43de979c-0bf0-4c9...|2019-04-12|      2014|417866|       2|        2|       2127|   10575|     2|         0|   0|\n",
            "|b672c137-b88c-48b...|2019-10-16|      2016|239895|       2|        2|       1631|   11149|     2|         0|   0|\n",
            "|e0726d4d-d595-407...|2022-01-08|      2017|424418|       3|        2|       2249|   13878|     2|         0|   4|\n",
            "+--------------------+----------+----------+------+--------+---------+-----------+--------+------+----------+----+\n",
            "only showing top 5 rows\n",
            "\n"
          ]
        }
      ]
    },
    {
      "cell_type": "code",
      "source": [
        "# 2. Create a temporary view of the DataFrame.\n",
        "\n",
        "home_data_df.createOrReplaceTempView('home_sales')"
      ],
      "metadata": {
        "id": "Qisgs9YZAgft"
      },
      "execution_count": 22,
      "outputs": []
    },
    {
      "cell_type": "code",
      "source": [
        "# 3. What is the average price for a four bedroom house sold in each year rounded to two decimal places?\n",
        "avg_price_4bdrm = \"\"\"\n",
        "SELECT Year(date_built) AS YEAR,\n",
        "        AVG(price) AS AVERAGE_PRICE\n",
        "FROM home_sales\n",
        "WHERE bedrooms = 4\n",
        "GROUP BY YEAR\n",
        "ORDER BY YEAR DESC\n",
        "\"\"\"\n",
        "spark.sql(avg_price_4bdrm).show()\n"
      ],
      "metadata": {
        "id": "DhbYMeBdBb8S",
        "colab": {
          "base_uri": "https://localhost:8080/"
        },
        "outputId": "753d3121-eda4-41a6-9c8d-d8e8ffbca351"
      },
      "execution_count": 29,
      "outputs": [
        {
          "output_type": "stream",
          "name": "stdout",
          "text": [
            "+----+------------------+\n",
            "|YEAR|     AVERAGE_PRICE|\n",
            "+----+------------------+\n",
            "|2017| 296576.6934782609|\n",
            "|2016|296050.24326347304|\n",
            "|2015|307908.86020761245|\n",
            "|2014| 299073.8858447489|\n",
            "|2013|299999.38822652755|\n",
            "|2012| 298233.4150805271|\n",
            "|2011|302141.89581749047|\n",
            "|2010| 296800.7544776119|\n",
            "+----+------------------+\n",
            "\n"
          ]
        }
      ]
    },
    {
      "cell_type": "code",
      "source": [
        "# 4. What is the average price of a home for each year the home was built that have 3 bedrooms and 3 bathrooms rounded to two decimal places?\n",
        "avg_price_3n3 = \"\"\"\n",
        "SELECT YEAR(date_built),\n",
        "        AVG(price) as AVERAGE_PRICE\n",
        "\n",
        "FROM home_sales\n",
        "WHERE bedrooms = 3\n",
        "and bathrooms = 3\n",
        "GROUP BY YEAR(date_built)\n",
        "\n",
        "\"\"\"\n",
        "\n",
        "spark.sql(avg_price_3n3).show()\n",
        "\n"
      ],
      "metadata": {
        "id": "0vUePRxaBcQ7",
        "colab": {
          "base_uri": "https://localhost:8080/"
        },
        "outputId": "7f1388f1-ce72-4f21-a908-85508b49fdea"
      },
      "execution_count": 31,
      "outputs": [
        {
          "output_type": "stream",
          "name": "stdout",
          "text": [
            "+----------------+------------------+\n",
            "|year(date_built)|     AVERAGE_PRICE|\n",
            "+----------------+------------------+\n",
            "|            2015| 288770.2966101695|\n",
            "|            2013|295962.27145085804|\n",
            "|            2014| 290852.2661870504|\n",
            "|            2012| 293683.1872074883|\n",
            "|            2016|  290555.073964497|\n",
            "|            2010|  292859.615942029|\n",
            "|            2011|291117.46706586826|\n",
            "|            2017| 292676.7887740029|\n",
            "+----------------+------------------+\n",
            "\n"
          ]
        }
      ]
    },
    {
      "cell_type": "code",
      "source": [
        "# 5. What is the average price of a home for each year built that have 3 bedrooms, 3 bathrooms, with two floors,\n",
        "# and are greater than or equal to 2,000 square feet rounded to two decimal places?\n",
        "\n",
        "avg_price_3n3n2f = \"\"\"\n",
        "SELECT YEAR(date_built),\n",
        "        AVG(price) as AVERAGE_PRICE\n",
        "FROM home_sales\n",
        "WHERE bedrooms = 3\n",
        "and bathrooms = 3\n",
        "and `sqft_living` >= 2000\n",
        "and floors = 2\n",
        "GROUP BY YEAR(date_built)\n",
        "\n",
        "\n",
        "\"\"\"\n",
        "\n",
        "spark.sql(avg_price_3n3n2f).show()\n"
      ],
      "metadata": {
        "id": "gnB00dpwBclt",
        "colab": {
          "base_uri": "https://localhost:8080/"
        },
        "outputId": "9b745eb9-85e4-4cb1-c859-18203348b2fc"
      },
      "execution_count": 48,
      "outputs": [
        {
          "output_type": "stream",
          "name": "stdout",
          "text": [
            "+----------------+------------------+\n",
            "|year(date_built)|     AVERAGE_PRICE|\n",
            "+----------------+------------------+\n",
            "|            2015| 297609.9679144385|\n",
            "|            2013|      303676.79375|\n",
            "|            2014| 298264.7183908046|\n",
            "|            2012|307539.97402597405|\n",
            "|            2016| 293965.1046511628|\n",
            "|            2010| 285010.2215909091|\n",
            "|            2011| 276553.8128654971|\n",
            "|            2017|280317.57692307694|\n",
            "+----------------+------------------+\n",
            "\n"
          ]
        }
      ]
    },
    {
      "cell_type": "code",
      "source": [
        "# 6. What is the \"view\" rating for the average price of a home, rounded to two decimal places, where the homes are greater than\n",
        "# or equal to $350,000? Although this is a small dataset, determine the run time for this query.\n",
        "\n",
        "start_time = time.time()\n",
        "\n",
        "view_rating = \"\"\"\n",
        "SELECT view,\n",
        "        AVG(price) as AVERAGE_PRICE\n",
        "FROM home_sales\n",
        "WHERE price >= 350000\n",
        "GROUP BY view\n",
        "\n",
        "\"\"\"\n",
        "\n",
        "spark.sql(view_rating).show()\n",
        "\n",
        "\n",
        "print(\"--- %s seconds ---\" % (time.time() - start_time))"
      ],
      "metadata": {
        "id": "ZcdwpU9BBc8d",
        "colab": {
          "base_uri": "https://localhost:8080/"
        },
        "outputId": "c830181f-02e7-492e-d910-ecfe50a9aaa5"
      },
      "execution_count": 50,
      "outputs": [
        {
          "output_type": "stream",
          "name": "stdout",
          "text": [
            "+----+------------------+\n",
            "|view|     AVERAGE_PRICE|\n",
            "+----+------------------+\n",
            "|   7| 403005.7709497207|\n",
            "|  51| 788128.2083333334|\n",
            "|  15|404673.29545454547|\n",
            "|  54| 798684.8235294118|\n",
            "|  11|399548.11891891895|\n",
            "|  29| 397771.6512820513|\n",
            "|  69| 750537.9411764706|\n",
            "|  42|396964.50241545896|\n",
            "|  87|         1072285.2|\n",
            "|  73| 752861.1764705882|\n",
            "|  64| 767036.6666666666|\n",
            "|   3| 398867.5964912281|\n",
            "|  30|          397862.0|\n",
            "|  34| 401419.7451923077|\n",
            "|  59|          791453.0|\n",
            "|   8|398592.70658682636|\n",
            "|  28|402124.62176165805|\n",
            "|  22| 402022.6847826087|\n",
            "|  85|1056336.7435897435|\n",
            "|  16| 399586.5311004785|\n",
            "+----+------------------+\n",
            "only showing top 20 rows\n",
            "\n",
            "--- 1.4847064018249512 seconds ---\n"
          ]
        }
      ]
    },
    {
      "cell_type": "code",
      "source": [
        "# 7. Cache the the temporary table home_sales\n",
        "spark.sql('cache table home_sales')"
      ],
      "metadata": {
        "id": "zJOiKOv3BdH3",
        "colab": {
          "base_uri": "https://localhost:8080/"
        },
        "outputId": "71bd020c-0f17-45fb-e0eb-d147fba5ec1c"
      },
      "execution_count": 51,
      "outputs": [
        {
          "output_type": "execute_result",
          "data": {
            "text/plain": [
              "DataFrame[]"
            ]
          },
          "metadata": {},
          "execution_count": 51
        }
      ]
    },
    {
      "cell_type": "code",
      "source": [
        "# 8. Check if the table is cached.\n",
        "spark.catalog.isCached('home_sales')"
      ],
      "metadata": {
        "id": "1OTqBtqgBdW1",
        "colab": {
          "base_uri": "https://localhost:8080/"
        },
        "outputId": "021df83b-eaa1-4b34-c391-a71d717d8a43"
      },
      "execution_count": 52,
      "outputs": [
        {
          "output_type": "execute_result",
          "data": {
            "text/plain": [
              "True"
            ]
          },
          "metadata": {},
          "execution_count": 52
        }
      ]
    },
    {
      "cell_type": "code",
      "source": [
        "# 9. Using the cached data, run the query that filters out the view ratings with average price\n",
        "#  greater than or equal to $350,000. Determine the runtime and compare it to uncached runtime.\n",
        "\n",
        "start_time = time.time()\n",
        "\n",
        "cached_data_query = \"\"\"\n",
        "SELECT view,\n",
        "        AVG(price) AS AVERAGE_PRICE\n",
        "FROM home_sales\n",
        "GROUP BY view\n",
        "HAVING AVG(price) >= 350000\n",
        "\n",
        "\"\"\"\n",
        "\n",
        "spark.sql(cached_data_query).show()\n",
        "\n",
        "\n",
        "\n",
        "print(\"--- %s seconds ---\" % (time.time() - start_time))\n"
      ],
      "metadata": {
        "id": "5sfpB87pBdkV",
        "colab": {
          "base_uri": "https://localhost:8080/"
        },
        "outputId": "1b1e665e-5a68-4048-83d7-2619fedac974"
      },
      "execution_count": 75,
      "outputs": [
        {
          "output_type": "stream",
          "name": "stdout",
          "text": [
            "+----+------------------+\n",
            "|view|     AVERAGE_PRICE|\n",
            "+----+------------------+\n",
            "|  51| 788128.2083333334|\n",
            "|  54| 798684.8235294118|\n",
            "|  69| 750537.9411764706|\n",
            "|  87|         1072285.2|\n",
            "|  73| 752861.1764705882|\n",
            "|  64| 767036.6666666666|\n",
            "|  59|          791453.0|\n",
            "|  85|1056336.7435897435|\n",
            "|  52| 733780.2608695652|\n",
            "|  71| 775651.0952380953|\n",
            "|  98|1053739.3333333333|\n",
            "|  99|1061201.4193548388|\n",
            "|  96|1017815.9166666666|\n",
            "| 100|         1026669.5|\n",
            "|  70| 695865.5769230769|\n",
            "|  61| 746877.5909090909|\n",
            "|  75|1114042.9428571428|\n",
            "|  78|1080649.3666666667|\n",
            "|  89|        1107839.15|\n",
            "|  77|        1076205.56|\n",
            "+----+------------------+\n",
            "only showing top 20 rows\n",
            "\n",
            "--- 0.8799114227294922 seconds ---\n"
          ]
        }
      ]
    },
    {
      "cell_type": "code",
      "source": [
        "# 10. Partition by the \"date_built\" field on the formatted parquet home sales data\n",
        "home_data_df.write.partitionBy('date_built').parquet('p_home_sales_data', mode='overwrite')"
      ],
      "metadata": {
        "id": "Xh4d9cD1BdyN"
      },
      "execution_count": 57,
      "outputs": []
    },
    {
      "cell_type": "code",
      "source": [
        "# 11. Read the parquet formatted data.\n",
        "parquet_home_sales_df = spark.read.parquet('p_home_sales_data')"
      ],
      "metadata": {
        "id": "pcREFEcNBeMI"
      },
      "execution_count": 58,
      "outputs": []
    },
    {
      "cell_type": "code",
      "source": [
        "# 12. Create a temporary table for the parquet data.\n",
        "parquet_home_sales_df.createOrReplaceTempView('p_temp_view')"
      ],
      "metadata": {
        "id": "NYO_2umNBeWN"
      },
      "execution_count": 59,
      "outputs": []
    },
    {
      "cell_type": "code",
      "source": [
        "# 13. Run the query that filters out the view ratings with average price of greater than or equal to $350,000\n",
        "# with the parquet DataFrame. Round your average to two decimal places.\n",
        "# Determine the runtime and compare it to the cached version.\n",
        "\n",
        "start_time = time.time()\n",
        "\n",
        "view_rating_query = \"\"\"\n",
        "SELECT view,\n",
        "        AVG(price) as AVERAGE_PRICE\n",
        "FROM p_temp_view\n",
        "GROUP BY view\n",
        "HAVING AVG(price) >= 350000\n",
        "\n",
        "\"\"\"\n",
        "\n",
        "spark.sql(view_rating_query).show()\n",
        "\n",
        "print(\"--- %s seconds ---\" % (time.time() - start_time))"
      ],
      "metadata": {
        "id": "ClOaQcEJBehi",
        "colab": {
          "base_uri": "https://localhost:8080/"
        },
        "outputId": "0853463d-19e0-4182-aca9-2f6b39465cde"
      },
      "execution_count": 72,
      "outputs": [
        {
          "output_type": "stream",
          "name": "stdout",
          "text": [
            "+----+------------------+\n",
            "|view|     AVERAGE_PRICE|\n",
            "+----+------------------+\n",
            "|  51| 788128.2083333334|\n",
            "|  54| 798684.8235294118|\n",
            "|  69| 750537.9411764706|\n",
            "|  73| 752861.1764705882|\n",
            "|  87|         1072285.2|\n",
            "|  64| 767036.6666666666|\n",
            "|  59|          791453.0|\n",
            "|  85|1056336.7435897435|\n",
            "|  52| 733780.2608695652|\n",
            "|  71| 775651.0952380953|\n",
            "|  98|1053739.3333333333|\n",
            "|  99|1061201.4193548388|\n",
            "|  96|1017815.9166666666|\n",
            "| 100|         1026669.5|\n",
            "|  70| 695865.5769230769|\n",
            "|  61| 746877.5909090909|\n",
            "|  75|1114042.9428571428|\n",
            "|  78|1080649.3666666667|\n",
            "|  89|        1107839.15|\n",
            "|  77|        1076205.56|\n",
            "+----+------------------+\n",
            "only showing top 20 rows\n",
            "\n",
            "--- 1.2563934326171875 seconds ---\n"
          ]
        }
      ]
    },
    {
      "cell_type": "code",
      "source": [
        "# 14. Uncache the home_sales temporary table.\n",
        "spark.sql('uncache table home_sales')"
      ],
      "metadata": {
        "id": "eZN8IrwsBesl",
        "colab": {
          "base_uri": "https://localhost:8080/"
        },
        "outputId": "2b6a47af-8243-4e75-b830-0ac89a529f2d"
      },
      "execution_count": 66,
      "outputs": [
        {
          "output_type": "execute_result",
          "data": {
            "text/plain": [
              "DataFrame[]"
            ]
          },
          "metadata": {},
          "execution_count": 66
        }
      ]
    },
    {
      "cell_type": "code",
      "source": [
        "# 15. Check if the home_sales is no longer cached\n",
        "spark.catalog.isCached('home_sales')"
      ],
      "metadata": {
        "id": "FjVypuO7Be3p",
        "colab": {
          "base_uri": "https://localhost:8080/"
        },
        "outputId": "29fefad6-83cc-46d2-8aae-5147dfe813bc"
      },
      "execution_count": 67,
      "outputs": [
        {
          "output_type": "execute_result",
          "data": {
            "text/plain": [
              "False"
            ]
          },
          "metadata": {},
          "execution_count": 67
        }
      ]
    }
  ]
}